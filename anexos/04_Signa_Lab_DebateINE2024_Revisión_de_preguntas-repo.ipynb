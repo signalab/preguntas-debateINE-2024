{
 "cells": [
  {
   "cell_type": "markdown",
   "metadata": {
    "id": "PdtPpaRSZyot"
   },
   "source": [
    "# **Signa_Lab ITESO: Revisión de preguntas**\n",
    "\n",
    "## **Proyecto:** *Selección de Preguntas de Redes Sociales para 1er Debate Presidencial INE 2024 (Formato A)*"
   ]
  },
  {
   "cell_type": "markdown",
   "metadata": {
    "id": "8QyORNz0Z1s6"
   },
   "source": [
    "Cuaderno de código para realizar los reemplazos necesarios en la preselección de 108 preguntas, después de su revisión manual, en la que se validó su cumplimiento con los criterios de elegibilidad desde la metodología establecida por el INE (INE, 2024). A partir de la depuración de la muestra estratificada para evitar repeticiones de las preguntas preseleccionadas, se realiza la extracción de nuevas preguntas a reemplazar según sus respectivos criterios de frecuencia o aleatoriedad, y se actualiza el cálculo correspondiente de la tasa de reemplazo, con base en la muestra estratificada de 1701 preguntas."
   ]
  },
  {
   "cell_type": "markdown",
   "metadata": {
    "id": "k9cxszdGFQyM"
   },
   "source": [
    "# **1. Descargar e importar librerías, dependencias y archivos de datos**\n"
   ]
  },
  {
   "cell_type": "markdown",
   "metadata": {
    "id": "w4NdF2f5Z-hM"
   },
   "source": [
    "**Instalar librerías:**"
   ]
  },
  {
   "cell_type": "code",
   "execution_count": null,
   "metadata": {
    "colab": {
     "base_uri": "https://localhost:8080/"
    },
    "id": "oWzShHjW2glj",
    "outputId": "2c2802dc-adcc-4ad1-d2fa-87e844151d82"
   },
   "outputs": [],
   "source": [
    "!pip install pandas\n",
    "!pip install datetime"
   ]
  },
  {
   "cell_type": "markdown",
   "metadata": {
    "id": "3HNO8OtcDfAr"
   },
   "source": [
    "**Importar librerías:**"
   ]
  },
  {
   "cell_type": "code",
   "execution_count": 2,
   "metadata": {
    "id": "evuyVCCMaQEd"
   },
   "outputs": [],
   "source": [
    "import pandas as pd\n",
    "import datetime"
   ]
  },
  {
   "cell_type": "markdown",
   "metadata": {
    "id": "dQks_5TDaqXa"
   },
   "source": [
    "**Indicar ruta y cargar archivo de datos:**\n"
   ]
  },
  {
   "cell_type": "code",
   "execution_count": 3,
   "metadata": {
    "id": "kWgzmSj4auCu"
   },
   "outputs": [],
   "source": [
    "# Muestra estratificada original (1701 preguntas):\n",
    "# rutaMuestra = \"./data/20240325_1759_PreguntasDebateINE_MuestraEstratificada.csv\"\n",
    "\n",
    "# Muestra estratificada depurada de primera preselección (1593 preguntas):\n",
    "# rutaMuestra = \"./data/20240328_1657_MuestraEstratificada_SinPrimeraSelección.csv\"\n",
    "\n",
    "# Muestra estratificada depurada de segunda preselección (1565 preguntas):\n",
    "# rutaMuestra = \"./data/20240328_1757_MuestraEstratificada_SinSegundaSelección.csv\"\n",
    "\n",
    "# Muestra estratificada depurada de tercera preselección (1554 preguntas):\n",
    "rutaMuestra = \"./data/20240328_1825_MuestraEstratificada_SinTerceraSelección.csv\"\n",
    "\n",
    "\n",
    "# 1ra ronda de revisión de preguntas preseleccionadas\n",
    "# rutaPreguntasSeleccionas = \"./data/20240328_1520_PreguntasDebateINE_PrimeraSeleccionPreguntas_FrecuenciaAleatoriedad_Revisión.xlsx\"\n",
    "\n",
    "# 2nda ronda de revisión de preguntas preseleccionadas\n",
    "# rutaPreguntasSeleccionas = \"./data/20240328_1746_PreguntasDebateINE_SegundaSeleccion_Revision.xlsx\"\n",
    "\n",
    "# 3ra ronda de revisión de preguntas preseleccionadas\n",
    "# rutaPreguntasSeleccionas = \"./data/20240328_1817_PreguntasDebateINE_TerceraSeleccion_Revision.xlsx\"\n",
    "\n",
    "# 4ta ronda de revisión de preguntas preseleccionadas\n",
    "rutaPreguntasSeleccionas = \"./data/20240328_1841_PreguntasDebateINE_CuartaSeleccion_Revision.xlsx\""
   ]
  },
  {
   "cell_type": "markdown",
   "metadata": {
    "id": "8i0cSphH7U2u"
   },
   "source": [
    "**Indicar el seed number que nos ayudará a fijar selección de las preguntas aleatorias nuevas:**"
   ]
  },
  {
   "cell_type": "code",
   "execution_count": 4,
   "metadata": {
    "id": "BnADw24w7c-m"
   },
   "outputs": [],
   "source": [
    "# Semillar para fijar 1ra ronda de reemplazos aleatorios\n",
    "# seed_number = 202401\n",
    "\n",
    "# Semillar para fijar 2nda ronda de reemplazos aleatorios\n",
    "# seed_number = 202402\n",
    "\n",
    "# Semillar para fijar 3ra ronda de reemplazos aleatorios\n",
    "# seed_number = 202403\n",
    "\n",
    "# Semillar para fijar 4ta ronda de reemplazos aleatorios\n",
    "seed_number = 202404"
   ]
  },
  {
   "cell_type": "code",
   "execution_count": 5,
   "metadata": {},
   "outputs": [],
   "source": [
    "tamano_muestra_estratificada = 1701"
   ]
  },
  {
   "cell_type": "markdown",
   "metadata": {
    "id": "Lw1_tCila2py"
   },
   "source": [
    "**Revisar datos importados:**"
   ]
  },
  {
   "cell_type": "code",
   "execution_count": null,
   "metadata": {
    "id": "7YPTsg6ta4fF"
   },
   "outputs": [],
   "source": [
    "# Previsualizar tabla de datos importados\n",
    "dfMuestra = pd.read_csv(rutaMuestra)\n",
    "dfPreguntasSeleccionadas = pd.read_excel(rutaPreguntasSeleccionas)"
   ]
  },
  {
   "cell_type": "markdown",
   "metadata": {
    "id": "SyrMiCy6Bi2c"
   },
   "source": [
    "### **Resultados de primera revisión de 108 preguntas preseleccionadas:**\n",
    "- 80 aprobadas\n",
    "- 28 por reemplazar\n",
    "\n",
    "**Preguntas a reemplazar:**\n",
    "- 1 por frecuencia: \n",
    "    - id de pregunta a reemplazar: 75681 (salud)\n",
    "    - id de nueva pregunta seleccionada: 99061 (salud, tras revisión con análisis semántico)\n",
    "\n",
    "- 27 por aleatoriedad"
   ]
  },
  {
   "cell_type": "markdown",
   "metadata": {},
   "source": [
    "### **Resultados de segunda revisión de 108 preguntas preseleccionadas:**\n",
    "- 97 aprobadas\n",
    "- 11 por reemplazar\n",
    "\n",
    "**Preguntas a reemplazar:**\n",
    "- 11 por aleatoriedad"
   ]
  },
  {
   "cell_type": "markdown",
   "metadata": {},
   "source": [
    "### **Resultados de tercera revisión de 108 preguntas preseleccionadas:**\n",
    "- 106 aprobadas\n",
    "- 2 por reemplazar\n",
    "\n",
    "**Preguntas a reemplazar:**\n",
    "- 2 por aleatoriedad"
   ]
  },
  {
   "cell_type": "markdown",
   "metadata": {},
   "source": [
    "### **Resultados de cuarta revisión de 108 preguntas preseleccionadas:**\n",
    "- 107 aprobadas\n",
    "- 1 por reemplazar\n",
    "\n",
    "**Preguntas a reemplazar:**\n",
    "- 1 por aleatoriedad"
   ]
  },
  {
   "cell_type": "markdown",
   "metadata": {
    "id": "NBYNiHaC_WST"
   },
   "source": [
    "**Ajustar IDs a formato inicial:**"
   ]
  },
  {
   "cell_type": "code",
   "execution_count": 7,
   "metadata": {
    "id": "Tmbi5GkR-nZy"
   },
   "outputs": [],
   "source": [
    "# # Solo se ejecutó en la primera ronda de reemplazo (que requirió el reemplazo de una pregunta elegida por frecuencia)\n",
    "\n",
    "# # Ajustar ids a formato de ids de la muestra original\n",
    "# # formato original de id -> xxxxxx_n\n",
    "# def adjust_id(id):\n",
    "#   strid = str(id)\n",
    "#   firstPart = strid[:-1].zfill(6)\n",
    "#   lastDigit = strid[-1]\n",
    "#   return f\"{firstPart}_{lastDigit}\"\n",
    "\n",
    "# # dfMuestra['id'] = dfMuestra['id'].apply(adjust_id)\n",
    "# dfPreguntasSeleccionadas[\"id\"] = dfPreguntasSeleccionadas[\"id\"].apply(adjust_id)"
   ]
  },
  {
   "cell_type": "code",
   "execution_count": null,
   "metadata": {
    "colab": {
     "base_uri": "https://localhost:8080/",
     "height": 484
    },
    "id": "Pih1kE_wJefL",
    "outputId": "69565d2c-8348-49d4-85c7-58449788efc0"
   },
   "outputs": [],
   "source": [
    "# Previsualizar tabla de preguntas preseleccionadas\n",
    "dfPreguntasSeleccionadas.head()"
   ]
  },
  {
   "cell_type": "code",
   "execution_count": 9,
   "metadata": {
    "colab": {
     "base_uri": "https://localhost:8080/"
    },
    "id": "Rn11BBA-ooMu",
    "outputId": "8909529f-05af-4f3f-8c16-ccc677bf7102"
   },
   "outputs": [
    {
     "data": {
      "text/plain": [
       "((1554, 16), (108, 20))"
      ]
     },
     "execution_count": 9,
     "metadata": {},
     "output_type": "execute_result"
    }
   ],
   "source": [
    "# Verificar número de filas y columnas en datos importados\n",
    "dfMuestra.shape, dfPreguntasSeleccionadas.shape"
   ]
  },
  {
   "cell_type": "code",
   "execution_count": 10,
   "metadata": {},
   "outputs": [
    {
     "data": {
      "text/plain": [
       "(1552, 16)"
      ]
     },
     "execution_count": 10,
     "metadata": {},
     "output_type": "execute_result"
    }
   ],
   "source": [
    "# Eliminar 108 preguntas preseleccionadas de Muestra Estratificada para realizar reemplazos sin repeticiones\n",
    "dfMuestra = dfMuestra[~dfMuestra['id'].isin(dfPreguntasSeleccionadas['id'])]\n",
    "dfMuestra.shape"
   ]
  },
  {
   "cell_type": "code",
   "execution_count": null,
   "metadata": {},
   "outputs": [],
   "source": [
    "# Previsualizar tabla de muestra estratificada depurada, sin las preguntas preseleccionadas\n",
    "dfMuestra"
   ]
  },
  {
   "cell_type": "code",
   "execution_count": 12,
   "metadata": {},
   "outputs": [],
   "source": [
    "# Exportar en archivo CSV muestra estratificada depurada de primeras 108 preguntas preseleccionadas\n",
    "# dfMuestra.to_csv(\"20240328_1657_MuestraEstratificada_SinPrimeraSelección.csv\")\n",
    "\n",
    "# Exportar en archivo CSV muestra estratificada depurada de segundas 108 preguntas preseleccionadas\n",
    "# dfMuestra.to_csv(\"20240328_1757_MuestraEstratificada_SinSegundaSelección.csv\")\n",
    "\n",
    "# Exportar en archivo CSV muestra estratificada depurada de terceras 108 preguntas preseleccionadas\n",
    "# dfMuestra.to_csv(\"20240328_1825_MuestraEstratificada_SinTerceraSelección.csv\")\n",
    "\n",
    "# Exportar en archivo CSV muestra estratificada depurada de cuartas 108 preguntas preseleccionadas\n",
    "dfMuestra.to_csv(\"20240328_1842_MuestraEstratificada_SinCuartaSelección.csv\")"
   ]
  },
  {
   "cell_type": "markdown",
   "metadata": {
    "id": "vuC-tFGkdm8p"
   },
   "source": [
    "## **2. Inicializar contador de Tasa de Reemplazo y ejecutar funciones de reemplazo de preguntas por Frecuencia y Aleatoriedad**"
   ]
  },
  {
   "cell_type": "code",
   "execution_count": 13,
   "metadata": {
    "id": "U0Ym6c9khO3M"
   },
   "outputs": [],
   "source": [
    "#Inicializar variable de contador tasa de remplazo para 1ra ronda de reemplazos\n",
    "# contador_tasaRemplazo = 0\n",
    "\n",
    "#Inicializar variable de contador tasa de remplazo para 2nda ronda de reemplazos\n",
    "# contador_tasaRemplazo = 28\n",
    "\n",
    "#Inicializar variable de contador tasa de remplazo para 3ra ronda de reemplazos\n",
    "# contador_tasaRemplazo = 39\n",
    "\n",
    "#Inicializar variable de contador tasa de remplazo para 4ta ronda de reemplazos\n",
    "contador_tasaRemplazo = 41\n",
    "\n",
    "#Inicializar replaced_df (tabla con vacía que recibirá nueva pregunta)\n",
    "replaced_df = pd.DataFrame(columns=dfPreguntasSeleccionadas.columns)"
   ]
  },
  {
   "cell_type": "markdown",
   "metadata": {
    "id": "L7cU3XK-zfqO"
   },
   "source": [
    "Definir función para realizar **reemplazos individuales de preguntas preseleccionadas por frecuencia** y sumar a un contador para tasa de reemplazo:"
   ]
  },
  {
   "cell_type": "code",
   "execution_count": 14,
   "metadata": {
    "id": "xTE1lz2r2glo"
   },
   "outputs": [],
   "source": [
    "def remplazar_unica_pregunta(id_a_reemplazar, id_nuevo, dfPreguntasSeleccionadas, sampled_df, replaced_df):\n",
    "    global contador_tasaRemplazo\n",
    "    contador_tasaRemplazo+=1\n",
    "\n",
    "    if id_a_reemplazar not in dfPreguntasSeleccionadas['id'].values:\n",
    "        raise ValueError(f\"El ID de la pregunta a reemplazar ({id_a_reemplazar}) no está presente en el DataFrame.\")\n",
    "\n",
    "    # Obtener la pregunta original basada en el ID proporcionado\n",
    "    pregunta_original = dfPreguntasSeleccionadas[dfPreguntasSeleccionadas['id'] == id_a_reemplazar]\n",
    "\n",
    "    # Obtener el índice de la pregunta original en dfPreguntasSeleccionadas\n",
    "    indice_original = dfPreguntasSeleccionadas[dfPreguntasSeleccionadas['id'] == id_a_reemplazar].index[0]\n",
    "    razon_reemplazo = str(dfPreguntasSeleccionadas[dfPreguntasSeleccionadas['id'] == \"007568_1\"][\"razonamiento_reemplazo\"].tolist()[0])\n",
    "    # Obtener la nueva pregunta basada en el ID proporcionado\n",
    "    pregunta_nueva = sampled_df[sampled_df['id'] == id_nuevo]\n",
    "\n",
    "    # Reemplazar la pregunta original por la pregunta nueva en el DataFrame dfPreguntasSeleccionadas\n",
    "    dfPreguntasSeleccionadas.loc[indice_original] = pregunta_nueva.iloc[0]\n",
    "    dfPreguntasSeleccionadas.at[indice_original, 'Criterio'] = 'Frecuencia'\n",
    "    \n",
    "    # Eliminar la pregunta nueva del DataFrame dfMuestra\n",
    "    sampled_df = sampled_df.drop(sampled_df[sampled_df['id'] == id_nuevo].index)\n",
    "\n",
    "    # Agregar la pregunta original al DataFrame de preguntas reemplazadas\n",
    "    replaced_df = pd.concat([replaced_df, pregunta_original], ignore_index=True)\n",
    "\n",
    "    # Agregar la razón de reemplazo a la columna 'razon' en el DataFrame de preguntas reemplazadas\n",
    "    replaced_df.loc[replaced_df['id'] == id_a_reemplazar, 'razon'] = razon_reemplazo\n",
    "\n",
    "    return dfPreguntasSeleccionadas, replaced_df, sampled_df"
   ]
  },
  {
   "cell_type": "markdown",
   "metadata": {
    "id": "hkhvW-z52glp"
   },
   "source": [
    "Definir función para realizar **reemplazos con criterio de aletoriedad** a preguntas y sumar a un contador para **tasa de reemplazo:**"
   ]
  },
  {
   "cell_type": "code",
   "execution_count": 15,
   "metadata": {
    "id": "9ZSTJqHk2glp"
   },
   "outputs": [],
   "source": [
    "def reemplazar_preguntas_aleatoriamente(id_a_reemplazar, dfPreguntasSeleccionadas, sampled_df, replaced_df, razon_reemplazo):\n",
    "    global contador_tasaRemplazo, seed_number, listaIdsNuevos\n",
    "    contador_tasaRemplazo+=1\n",
    "\n",
    "    # # Verificar si el ID de la pregunta está presente en el DataFrame\n",
    "    if id_a_reemplazar not in dfPreguntasSeleccionadas['id'].values:\n",
    "        raise ValueError(\"El ID de la pregunta no está presente en el DataFrame.\")\n",
    "\n",
    "    # Obtener la pregunta original basada en el ID proporcionado\n",
    "    pregunta_original = dfPreguntasSeleccionadas[dfPreguntasSeleccionadas['id'] == id_a_reemplazar]\n",
    "\n",
    "    # Obtener el tema y la región de la pregunta original a reemplazar\n",
    "    tema_original = pregunta_original['tema'].values[0]\n",
    "    region_original = pregunta_original['region'].values[0]\n",
    "\n",
    "    # Filtrar el DataFrame agrupado por el tema y la región de la pregunta original\n",
    "    preguntas_mismo_tema_region = sampled_df[(sampled_df['region'] == region_original) & (sampled_df['tema'] == tema_original)]\n",
    "\n",
    "    # Excluir la pregunta original del DataFrame filtrado\n",
    "    preguntas_mismo_tema_region_sin_original = preguntas_mismo_tema_region[~(preguntas_mismo_tema_region['id'] == id_a_reemplazar)]\n",
    "\n",
    "    if len(preguntas_mismo_tema_region_sin_original) == 0:\n",
    "        raise ValueError(\"No hay preguntas disponibles para reemplazar.\")\n",
    "\n",
    "    # Seleccionar aleatoriamente una pregunta del DataFrame filtrado\n",
    "    pregunta_nueva = preguntas_mismo_tema_region_sin_original.sample(n=1, random_state=seed_number)\n",
    "    listaIdsNuevos.append(str(pregunta_nueva[\"id\"].tolist()[0]))\n",
    "\n",
    "    # Obtener el índice de la pregunta original en sampled_df\n",
    "    indice_original = dfPreguntasSeleccionadas[dfPreguntasSeleccionadas['id'] == id_a_reemplazar].index[0]\n",
    "\n",
    "    # Reemplazar la pregunta original por la pregunta nueva en el DataFrame muestreado\n",
    "    dfPreguntasSeleccionadas.loc[indice_original] = pregunta_nueva.iloc[0]\n",
    "    dfPreguntasSeleccionadas.at[indice_original, 'Criterio'] = 'Aleatoriedad'\n",
    "\n",
    "    # Eliminar la pregunta nueva del DataFrame dfMuestra\n",
    "    sampled_df = sampled_df.drop(sampled_df[sampled_df['id'] == pregunta_nueva['id'].values[0]].index)\n",
    "\n",
    "    # replaced_df = replaced_df.append(pregunta_original, ignore_index=True)\n",
    "    replaced_df = pd.concat([replaced_df, pregunta_original], ignore_index=True)\n",
    "    # Agregar la razón de reemplazo a la columna 'razon' en el DataFrame de preguntas reemplazadas\n",
    "    replaced_df.loc[replaced_df['id'] == id_a_reemplazar, 'razon'] = razon_reemplazo\n",
    "\n",
    "    # Retornar la pregunta nueva, el contador global, el DataFrame de preguntas reemplazadas y la pregunta original\n",
    "    return dfPreguntasSeleccionadas, replaced_df, sampled_df"
   ]
  },
  {
   "cell_type": "markdown",
   "metadata": {},
   "source": [
    "**Reemplazo preguntas por frecuencia (solo aplicó en 1ra ronda)**\n",
    "- id de pregunta a reemplazar: 007568_1 (salud)\n",
    "- id de nueva pregunta seleccionada: 009906_1"
   ]
  },
  {
   "cell_type": "code",
   "execution_count": 16,
   "metadata": {},
   "outputs": [],
   "source": [
    "# Reemplazar preguntas por frecuencia (solo aplicó en primera ronda de reemplazos)\n",
    "# dfPreguntasSeleccionadas, replaced_df, dfMuestra = remplazar_unica_pregunta(\"007568_1\", \"009906_1\", dfPreguntasSeleccionadas, dfMuestra, replaced_df)"
   ]
  },
  {
   "cell_type": "markdown",
   "metadata": {},
   "source": [
    "**Reemplazo de preguntas por aleatoriedad**"
   ]
  },
  {
   "cell_type": "code",
   "execution_count": 17,
   "metadata": {},
   "outputs": [],
   "source": [
    "listaIdsNuevos = []"
   ]
  },
  {
   "cell_type": "code",
   "execution_count": 18,
   "metadata": {
    "id": "5sCmdymc2glp"
   },
   "outputs": [],
   "source": [
    "dfPreguntasAReemplazar = dfPreguntasSeleccionadas[dfPreguntasSeleccionadas[\"revision\"] == \"reemplazar\"]\n",
    "for i, row in dfPreguntasAReemplazar.iterrows():\n",
    "#     if row[\"idNuevo\"] is not None:\n",
    "#       dfPreguntasSeleccionadas, replaced_df, dfMuestra = remplazar_unica_pregunta(row[\"id\"], row[\"idNuevo\"], dfPreguntasSeleccionadas, dfMuestra, replaced_df, row[\"motivo\"])\n",
    "#     else:\n",
    "    dfPreguntasSeleccionadas, replaced_df, dfMuestra = reemplazar_preguntas_aleatoriamente(row[\"id\"], dfPreguntasSeleccionadas, dfMuestra, replaced_df, row[\"razonamiento_reemplazo\"])"
   ]
  },
  {
   "cell_type": "code",
   "execution_count": 19,
   "metadata": {},
   "outputs": [
    {
     "data": {
      "text/plain": [
       "(1, 20)"
      ]
     },
     "execution_count": 19,
     "metadata": {},
     "output_type": "execute_result"
    }
   ],
   "source": [
    "dfPreguntasAReemplazar.shape"
   ]
  },
  {
   "cell_type": "code",
   "execution_count": 20,
   "metadata": {},
   "outputs": [
    {
     "data": {
      "text/plain": [
       "1"
      ]
     },
     "execution_count": 20,
     "metadata": {},
     "output_type": "execute_result"
    }
   ],
   "source": [
    "# len(listaIdsNuevos)\n",
    "len(listaIdsNuevos)"
   ]
  },
  {
   "cell_type": "code",
   "execution_count": 21,
   "metadata": {},
   "outputs": [
    {
     "name": "stdout",
     "output_type": "stream",
     "text": [
      "1 reemplazos aleatorios realizados satisfactoriamente\n"
     ]
    }
   ],
   "source": [
    "contadorReemplazosAleatorios = 0\n",
    "for x, y in zip(replaced_df[replaced_df[\"Criterio\"] == \"Aleatoriedad\"][\"id\"].tolist(), listaIdsNuevos):\n",
    "    if x == y:\n",
    "        print(\"Error en el reemplazo\")\n",
    "    else:\n",
    "        contadorReemplazosAleatorios+=1\n",
    "if contadorReemplazosAleatorios == len(dfPreguntasAReemplazar):\n",
    "    print(f\"{contadorReemplazosAleatorios} reemplazos aleatorios realizados satisfactoriamente\")"
   ]
  },
  {
   "cell_type": "code",
   "execution_count": 22,
   "metadata": {},
   "outputs": [
    {
     "data": {
      "text/plain": [
       "(108, 20)"
      ]
     },
     "execution_count": 22,
     "metadata": {},
     "output_type": "execute_result"
    }
   ],
   "source": [
    "dfPreguntasSeleccionadas.shape"
   ]
  },
  {
   "cell_type": "code",
   "execution_count": null,
   "metadata": {},
   "outputs": [],
   "source": [
    "# Previsualizar tabla de preguntas preseleccionadas para revisión manual\n",
    "dfPreguntasSeleccionadas"
   ]
  },
  {
   "cell_type": "code",
   "execution_count": 24,
   "metadata": {},
   "outputs": [],
   "source": [
    "# Exportar archivo CSV con segunda selección de preguntas\n",
    "# dfPreguntasSeleccionadas.to_csv(\"20240328_1611_MuestraEstratificada_SegundaSelección.csv\")\n",
    "\n",
    "# Exportar archivo CSV con tercera selección de preguntas\n",
    "# dfPreguntasSeleccionadas.to_csv(\"20240328_1611_MuestraEstratificada_TerceraSelección.csv\")\n",
    "\n",
    "# Exportar archivo CSV con cuarta selección de preguntas\n",
    "# dfPreguntasSeleccionadas.to_csv(\"20240328_1611_MuestraEstratificada_CuartaSelección.csv\")\n",
    "\n",
    "# Exportar archivo CSV con quinta selección de preguntas\n",
    "dfPreguntasSeleccionadas.to_csv(\"20240328_1842_PreguntasDebateINE_QuintaSeleccion.csv\")"
   ]
  },
  {
   "cell_type": "code",
   "execution_count": 25,
   "metadata": {},
   "outputs": [
    {
     "data": {
      "text/plain": [
       "(1551, 16)"
      ]
     },
     "execution_count": 25,
     "metadata": {},
     "output_type": "execute_result"
    }
   ],
   "source": [
    "dfMuestra.shape"
   ]
  },
  {
   "cell_type": "code",
   "execution_count": 26,
   "metadata": {
    "colab": {
     "base_uri": "https://localhost:8080/"
    },
    "id": "n-fkSRq-g_ec",
    "outputId": "126d01af-647d-40e9-f4ad-2f053568375b"
   },
   "outputs": [
    {
     "name": "stdout",
     "output_type": "stream",
     "text": [
      "tasa de remplazado 2.47%\n"
     ]
    },
    {
     "data": {
      "text/plain": [
       "(None, 42)"
      ]
     },
     "execution_count": 26,
     "metadata": {},
     "output_type": "execute_result"
    }
   ],
   "source": [
    "# Calcular e imprimir valor de tasa de reemplazo al momento\n",
    "_count=contador_tasaRemplazo/tamano_muestra_estratificada*100\n",
    "print(f'tasa de remplazado {_count:.2f}%'),contador_tasaRemplazo"
   ]
  },
  {
   "cell_type": "code",
   "execution_count": null,
   "metadata": {
    "colab": {
     "base_uri": "https://localhost:8080/",
     "height": 271
    },
    "id": "Mh-ncDS9kRz5",
    "outputId": "32e1e5cb-1d80-488e-ac55-a65ac5f7a48e"
   },
   "outputs": [],
   "source": [
    "# Previsualizar tabla con preguntas reemplazadas\n",
    "#print(replaced_df['pregunta'].to_markdown())\n",
    "replaced_df.head()"
   ]
  },
  {
   "cell_type": "markdown",
   "metadata": {
    "id": "OqcDpQGLTe2a"
   },
   "source": [
    "## 3. Referencias:"
   ]
  },
  {
   "cell_type": "markdown",
   "metadata": {
    "id": "5l-uV6I9Tgsp"
   },
   "source": [
    "*   Instituto Nacional Electoral. (2024). Acuerdo INE/CG95/2024. Acuerdo del Consejo General del Instituto Nacional Electoral por el que se define la metodología, así como la instancia que seleccionará las preguntas provenientes de redes sociales relativas al Formato Tipo A que se utilizará en el Primer Debate Presidencial en el Proceso Electoral Federal 2023-2024. Repositorio Documental INE. https://repositoriodocumental.ine.mx/xmlui/bitstream/handle/123456789/164296/CGex202402-08-ap-3.pdf\n",
    "* Instituto Nacional Electoral. (2024). Anexo I. Metodología Selección de Preguntas para Debate Formato A. Recuperado de: https://repositoriodocumental.ine.mx/xmlui/bitstream/handle/123456789/164296/CGex202402-08-ap-3-a1.pdf"
   ]
  }
 ],
 "metadata": {
  "colab": {
   "provenance": []
  },
  "kernelspec": {
   "display_name": "Python 3 (ipykernel)",
   "language": "python",
   "name": "python3"
  },
  "language_info": {
   "codemirror_mode": {
    "name": "ipython",
    "version": 3
   },
   "file_extension": ".py",
   "mimetype": "text/x-python",
   "name": "python",
   "nbconvert_exporter": "python",
   "pygments_lexer": "ipython3",
   "version": "3.10.12"
  }
 },
 "nbformat": 4,
 "nbformat_minor": 4
}
